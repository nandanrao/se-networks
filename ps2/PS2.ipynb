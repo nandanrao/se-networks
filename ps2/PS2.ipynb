{
 "cells": [
  {
   "cell_type": "markdown",
   "metadata": {
    "ein.tags": [
     "worksheet-0"
    ],
    "slideshow": {
     "slide_type": "-"
    }
   },
   "source": [
    "## Local Coordination Game\n",
    "\n",
    "$\\alpha$ and $\\beta$ can be considered the personal benefit, independent of others choices, that player i gets from choose a and b respectively. Unlike in the situation we studied in class, here the degree of the node does not drop out of the equation and there is not a uniform equation for a probabilistic best reply _irrespective_ of the degree of the node.\n",
    "\n",
    "Instead the best reply of A is given when:\n",
    "\n",
    "$$\n",
    "P_A \\geq \\big( \\frac{\\beta - \\alpha}{D_i} + b \\big) \\frac{1}{a + b}\n",
    "$$\n",
    "\n",
    "Where $P_A$ is the probability of a node starting A and $D_i$ is the degree of the node.\n",
    "\n",
    "Similarly, the reason we could characterize nash equilibria by p-clusters in the simpler case was, where the best reply of A was given by $ P_A \\geq \\frac{b}{a + b}$, was that we could relate the p-cluster values to that static threshold. We no longer have this, now the threshold for each node is dependent on its degree, and p-clusters no longer suffice to characterize equilibria. To be more specific, with large enough $\\alpha$, the p-percentage of a given node (the number of nodes of similar choice it is connected to) with small degree will be irrelevant, as the fixed $\\alpha$ will dominate the decision-making process, which will only get moderated as the degree of the node grows. \n"
   ]
  },
  {
   "cell_type": "markdown",
   "metadata": {
    "ein.tags": [
     "worksheet-0"
    ],
    "slideshow": {
     "slide_type": "-"
    }
   },
   "source": [
    "## Community Detection\n",
    "\n",
    "a) The concept of _resolution limit_ is very nicely described in Barabasi, where he makes it very clear that the discrete nature of links limits our ability to detect communities below a certain size (relative to the total number of links in the network), because the expected number of links to a another small community will be less than one! \n",
    "\n",
    "b) Again, Barabasi provides a nice introduction to the GN and LFR benchmarks, where we randomly generate graphs by assigning nodes to communities (the \"ground truth\" we compare against) and then comparing in different ways the results of the community-detection algorithms. The LFR takes into account the distributional meta characteristics of many popular networks, which makes it seem better in many ways. I cannot help but notice, however, that just because the size of communities follows a power law distribution, does not mean that the way in which those communities are connected to each other is homogenous, as a single probability parameter would imply. Because of this I cannot help but think that using more complex random-graph generation models, such as those that allow for rich-get-richer characteristics, might have more heterogeneous communities that reflect more accurately those we see in real life. \n",
    "\n",
    "c) Scientific communities is a classic dataset, most likely popular because everyone using this dataset is also a part of it! For communities the most common is the collaboration graphs, instea do the directed citation version. However, there are also biological variants (protein interactions), and of course social networks! SNAP includes some with \"ground-truth\" communities including from friendster and livejournal. Also there are the \"traditional\" datasets such as the Karate Club and Florentine families. Additionally, Newman uses Amazon co-purchasing data for community detection!"
   ]
  },
  {
   "cell_type": "code",
   "execution_count": null,
   "metadata": {
    "autoscroll": "json-false",
    "collapsed": false,
    "ein.tags": [
     "worksheet-0"
    ],
    "slideshow": {
     "slide_type": "-"
    }
   },
   "outputs": [
    {
     "name": "stdout",
     "output_type": "stream",
     "text": [
      "Fetching package metadata .........\n",
      "Solving package specifications: ..........\n",
      "\n",
      "Package plan for package removal in environment /opt/conda/envs/python2:\n",
      "\n",
      "The following packages will be downloaded:\n",
      "\n",
      "    package                    |            build\n",
      "    ---------------------------|-----------------\n",
      "    ca-certificates-2017.1.23  |                0         166 KB  conda-forge\n",
      "    zlib-1.2.11                |                0          93 KB  conda-forge\n",
      "    certifi-2017.1.23          |           py27_0         222 KB  conda-forge\n",
      "    setuptools-33.1.0          |           py27_0         492 KB  conda-forge\n",
      "    ------------------------------------------------------------\n",
      "                                           Total:         972 KB\n",
      "\n",
      "The following packages will be REMOVED:\n",
      "\n",
      "    networkx:        1.11-py27_0      conda-forge\n",
      "\n",
      "The following packages will be UPDATED:\n",
      "\n",
      "    ca-certificates: 2016.9.26-0      conda-forge --> 2017.1.23-0      conda-forge\n",
      "    certifi:         2016.9.26-py27_0 conda-forge --> 2017.1.23-py27_0 conda-forge\n",
      "    setuptools:      32.3.1-py27_0    conda-forge --> 33.1.0-py27_0    conda-forge\n",
      "    zlib:            1.2.8-3          conda-forge --> 1.2.11-0         conda-forge\n",
      "\n",
      "Fetching packages ...\n",
      "ca-certificate 100% |################################| Time: 0:00:00 378.96 kB/s\n",
      "zlib-1.2.11-0. 100% |################################| Time: 0:00:00 280.85 kB/s\n",
      "certifi-2017.1 100% |################################| Time: 0:00:00 328.09 kB/s\n",
      "setuptools-33. 100% |################################| Time: 0:00:00 573.24 kB/s\n",
      "Extracting packages ...\n",
      "[      COMPLETE      ]|###################################################| 100%\n",
      "Unlinking packages ...\n",
      "[      COMPLETE      ]|###################################################| 100%\n",
      "Linking packages ...\n",
      "[      COMPLETE      ]|###################################################| 100%\n",
      "Collecting networkx from git+git://github.com/networkx/networkx.git#egg=networkx\n",
      "  Cloning git://github.com/networkx/networkx.git to /tmp/pip-build-RAv5tY/networkx\n"
     ]
    }
   ],
   "source": [
    "!conda uninstall --yes networkx\n",
    "!pip install --upgrade git+git://github.com/networkx/networkx.git#egg=networkx"
   ]
  },
  {
   "cell_type": "code",
   "execution_count": null,
   "metadata": {
    "autoscroll": "json-false",
    "collapsed": false,
    "ein.tags": [
     "worksheet-0"
    ],
    "slideshow": {
     "slide_type": "-"
    }
   },
   "outputs": [],
   "source": [
    "import networkx as nx\n",
    "import pandas as pd\n",
    "import numpy as np\n",
    "import matplotlib.pyplot as plt\n",
    "import seaborn as sns\n",
    "import os\n",
    "from itertools import islice"
   ]
  },
  {
   "cell_type": "code",
   "execution_count": null,
   "metadata": {
    "autoscroll": "json-false",
    "collapsed": false,
    "ein.tags": [
     "worksheet-0"
    ],
    "slideshow": {
     "slide_type": "-"
    }
   },
   "outputs": [],
   "source": [
    "def network_from_df(path = \"data/high-energy-trimmed.txt\"):\n",
    "    df = pd.read_csv(path)\n",
    "    G = nx.DiGraph()\n",
    "    df = pd.read_csv(path, sep=\"\\t\")\n",
    "    nodes = df.iloc[:, 1].unique().tolist()\n",
    "    edges = [(f[0], f[1]) for f in df.as_matrix()]\n",
    "    G.add_nodes_from(nodes)\n",
    "    G.add_edges_from(edges)\n",
    "    return G\n",
    "\n",
    "\n",
    "get_top_hubs = lambda hits: get_top_nodes(hits[0])\n",
    "get_top_auths = lambda hits: get_top_nodes(hits[1])\n",
    "\n",
    "def get_top_nodes(d, n = 20):\n",
    "    return map(lambda x: x[0],\n",
    "               sorted(d.items(), key=lambda x: x[1]))[0:n]\n",
    "\n",
    "def erdos_degrees(n, p):\n",
    "    graph = nx.erdos_renyi_graph(n, p)\n",
    "    degrees = list(d[1] for d in graph.degree())\n",
    "    return pd.DataFrame({ p: degrees})"
   ]
  },
  {
   "cell_type": "markdown",
   "metadata": {
    "ein.tags": [
     "worksheet-0"
    ],
    "slideshow": {
     "slide_type": "-"
    }
   },
   "source": [
    "## Erdos Renyi Graphs\n",
    "\n",
    "The plots of the degree distributions follow more-or-less as we expect, seeming to come from the same distribution but becoming more regular as we increase the size of the graph. \n",
    "\n",
    "All large graphs with degree probability of more than 0.01 only had one component, so we look at the entire graph! Reducing the probability allows us to find multiple components, but even at 0.001, there is one large component and a bunch of 1-node components!"
   ]
  },
  {
   "cell_type": "code",
   "execution_count": 9,
   "metadata": {
    "autoscroll": "json-false",
    "collapsed": false,
    "ein.tags": [
     "worksheet-0"
    ],
    "slideshow": {
     "slide_type": "-"
    }
   },
   "outputs": [],
   "source": [
    "erdos_graphs_5k = [nx.erdos_renyi_graph(1000, p) for p in [0.01, 0.1, 0.25, 0.6, 0.9]]"
   ]
  },
  {
   "cell_type": "code",
   "execution_count": 8,
   "metadata": {
    "autoscroll": "json-false",
    "collapsed": false,
    "ein.tags": [
     "worksheet-0"
    ],
    "slideshow": {
     "slide_type": "-"
    }
   },
   "outputs": [
    {
     "data": {
      "text/plain": [
       "[1, 1, 1, 1, 1]"
      ]
     },
     "execution_count": 8,
     "metadata": {},
     "output_type": "execute_result"
    }
   ],
   "source": [
    "[nx.number_connected_components(G) for G in erdos_graphs_5k]"
   ]
  },
  {
   "cell_type": "code",
   "execution_count": 10,
   "metadata": {
    "autoscroll": "json-false",
    "collapsed": false,
    "ein.tags": [
     "worksheet-0"
    ],
    "slideshow": {
     "slide_type": "-"
    }
   },
   "outputs": [
    {
     "data": {
      "text/plain": [
       "[3.2634514514514517,\n",
       " 1.899925925925926,\n",
       " 1.7502342342342343,\n",
       " 1.401107107107107,\n",
       " 1.0998178178178177]"
      ]
     },
     "execution_count": 10,
     "metadata": {},
     "output_type": "execute_result"
    }
   ],
   "source": [
    "[nx.average_shortest_path_length(G) for G in erdos_graphs_5k]"
   ]
  },
  {
   "cell_type": "code",
   "execution_count": 78,
   "metadata": {
    "autoscroll": "json-false",
    "collapsed": false,
    "ein.tags": [
     "worksheet-0"
    ],
    "slideshow": {
     "slide_type": "-"
    }
   },
   "outputs": [
    {
     "data": {
      "image/png": "[encoded data removed]",
      "text/plain": [
       "<matplotlib.figure.Figure at 0x7f132a207490>"
      ]
     },
     "metadata": {},
     "output_type": "display_data"
    }
   ],
   "source": [
    "p = [sns.kdeplot(erdos_degrees(50, p)[p]) for p in [0.01, 0.1, 0.25, 0.6, 0.9]]\n",
    "plt.show()"
   ]
  },
  {
   "cell_type": "code",
   "execution_count": 79,
   "metadata": {
    "autoscroll": "json-false",
    "collapsed": false,
    "ein.tags": [
     "worksheet-0"
    ],
    "slideshow": {
     "slide_type": "-"
    }
   },
   "outputs": [
    {
     "data": {
      "image/png": "[encoded data removed]",
      "text/plain": [
       "<matplotlib.figure.Figure at 0x7f13106c8ed0>"
      ]
     },
     "metadata": {},
     "output_type": "display_data"
    }
   ],
   "source": [
    "p = [sns.kdeplot(erdos_degrees(2000, p)[p]) for p in [0.01, 0.1, 0.25, 0.6, 0.9]]\n",
    "plt.show()"
   ]
  },
  {
   "cell_type": "markdown",
   "metadata": {
    "ein.tags": [
     "worksheet-0"
    ],
    "slideshow": {
     "slide_type": "-"
    }
   },
   "source": [
    "### Looking at the tail\n",
    "\n",
    "We can see that looking closely at the tail of our degree distribution, it doesn't actually follow a power law very well, the tails decaying much faster than would be expected given a power law distribution!"
   ]
  },
  {
   "cell_type": "code",
   "execution_count": 80,
   "metadata": {
    "autoscroll": "json-false",
    "collapsed": false,
    "ein.tags": [
     "worksheet-0"
    ],
    "slideshow": {
     "slide_type": "-"
    }
   },
   "outputs": [
    {
     "data": {
      "image/png": "[encoded data removed]",
      "text/plain": [
       "<matplotlib.figure.Figure at 0x7f1329ac73d0>"
      ]
     },
     "metadata": {},
     "output_type": "display_data"
    }
   ],
   "source": [
    "from scipy.stats import powerlaw\n",
    "from numpy import linspace\n",
    "\n",
    "def generate_tail(n,p):\n",
    "    degrees = erdos_degrees(n, p)\n",
    "    thresh = np.percentile(degrees, 75)    \n",
    "    return degrees[degrees[p] > thresh]\n",
    "\n",
    "x = linspace(520,600,100)\n",
    "t = generate_tail(5000,0.1)\n",
    "p = powerlaw.fit(t)\n",
    "\n",
    "power = plt.plot(x, pd.DataFrame({'Fitted Power Law': powerlaw.pdf(x, p[0], p[1], p[2])}))\n",
    "data = sns.distplot(t)\n",
    "plt.show()"
   ]
  },
  {
   "cell_type": "markdown",
   "metadata": {
    "ein.tags": [
     "worksheet-0"
    ],
    "slideshow": {
     "slide_type": "-"
    }
   },
   "source": [
    "## SNAP High-Energy Physics Collaborations\n",
    "\n",
    "a) We can see that through each different centrality measure, we get different rankings. Because this particular network was recorded with directed edges but is symmetric (in reality, undirected), the hubs and authorities measures are exactly the same. Interestingly, the eigenvector centrality is very similar, which makes some sense when you consider the iterative nature of the HTIS algorithm and the relationship to the eigenvector centrality. "
   ]
  },
  {
   "cell_type": "code",
   "execution_count": 10,
   "metadata": {
    "autoscroll": "json-false",
    "collapsed": false,
    "ein.tags": [
     "worksheet-0"
    ],
    "slideshow": {
     "slide_type": "-"
    }
   },
   "outputs": [],
   "source": [
    "g = network_from_df()\n",
    "hits = nx.hits_scipy(g)\n",
    "pagerank = nx.pagerank_scipy(g)# default .85\n",
    "eigen = nx.eigenvector_centrality(g)\n",
    "degree = nx.degree_centrality(g)"
   ]
  },
  {
   "cell_type": "code",
   "execution_count": 11,
   "metadata": {
    "autoscroll": "json-false",
    "collapsed": false,
    "ein.tags": [
     "worksheet-0"
    ],
    "slideshow": {
     "slide_type": "-"
    }
   },
   "outputs": [
    {
     "data": {
      "text/plain": [
       "    authorities  degree  eigen   hubs  pagerank\n",
       "0            69       1     69     69      8264\n",
       "1         65674      11  65674  65674     50553\n",
       "2         65883      29  65883  65883      6012\n",
       "3           417   32801    417    417      2983\n",
       "4           427      69    427    427     47634\n",
       "5         65989   32894  65989  65989     59316\n",
       "6         33311   32896  33311  33311      2886\n",
       "7         66187   65669  66187  66187     45666\n",
       "8         71132     134   5596  71132      8098\n",
       "9           943   65674    943    943     55691\n",
       "10         1121     146   1121   1121     81047\n",
       "11        33936     218  33936  33936     38389\n",
       "12         1296     228  16588   1296     35935\n",
       "13        67059   65776   1296  67059     73178\n",
       "14        34629   65786  66883  34629     49085\n",
       "15         1873     254  75334   1873     83774\n",
       "16        67548   65793  67059  67548      8410\n",
       "17        67569   65796  34629  67569     19421\n",
       "18         5813   33033   1873   5813     26105\n",
       "19        34950     335  67548  34950      7413"
      ]
     },
     "execution_count": 11,
     "metadata": {},
     "output_type": "execute_result"
    }
   ],
   "source": [
    "pd.DataFrame({\n",
    "    'degree': get_top_nodes(degree),\n",
    "    'eigen': get_top_nodes(eigen),\n",
    "    'pagerank': get_top_nodes(pagerank),\n",
    "    'hubs': get_top_hubs(hits),\n",
    "    'authorities': get_top_auths(hits)\n",
    "})"
   ]
  },
  {
   "cell_type": "markdown",
   "metadata": {
    "ein.tags": [
     "worksheet-0"
    ],
    "slideshow": {
     "slide_type": "-"
    }
   },
   "source": [
    "### Macro Properties of SNAP Dataset\n",
    "\n",
    "We see that there are a number of separate connected components in this network and we can look at the degree distribution, which looks like it does have a very long tail, indicative of a power-law distribution we might expect from theory! What's interesting is the final mode around 240, where you have some group of individuals who collaborate with ~240, and there are a few that seem to cluster around that number! Could very well be random, but curious nonetheless. "
   ]
  },
  {
   "cell_type": "code",
   "execution_count": 0,
   "metadata": {
    "autoscroll": "json-false",
    "collapsed": false,
    "ein.tags": [
     "worksheet-0"
    ],
    "slideshow": {
     "slide_type": "-"
    }
   },
   "outputs": [],
   "source": [
    "undirected_collab = g.to_undirected()"
   ]
  },
  {
   "cell_type": "code",
   "execution_count": 39,
   "metadata": {
    "autoscroll": "json-false",
    "collapsed": false,
    "ein.tags": [
     "worksheet-0"
    ],
    "slideshow": {
     "slide_type": "-"
    }
   },
   "outputs": [
    {
     "data": {
      "text/plain": [
       "278"
      ]
     },
     "execution_count": 39,
     "metadata": {},
     "output_type": "execute_result"
    }
   ],
   "source": [
    "nx.number_connected_components(undirected_collab)"
   ]
  },
  {
   "cell_type": "code",
   "execution_count": 37,
   "metadata": {
    "autoscroll": "json-false",
    "collapsed": false,
    "ein.tags": [
     "worksheet-0"
    ],
    "slideshow": {
     "slide_type": "-"
    }
   },
   "outputs": [
    {
     "data": {
      "text/plain": [
       "19.740339773484344"
      ]
     },
     "execution_count": 37,
     "metadata": {},
     "output_type": "execute_result"
    },
    {
     "data": {
      "image/png": "[encoded data removed]",
      "text/plain": [
       "<matplotlib.figure.Figure at 0x7fd26c44d350>"
      ]
     },
     "metadata": {},
     "output_type": "display_data"
    }
   ],
   "source": [
    "degrees = list((j for i,j in (nx.degree(undirected_collab))))\n",
    "sns.distplot(degrees)\n",
    "np.mean(degrees)"
   ]
  },
  {
   "cell_type": "markdown",
   "metadata": {
    "ein.tags": [
     "worksheet-0"
    ],
    "slideshow": {
     "slide_type": "-"
    }
   },
   "source": [
    "## Communities in Famous Data Sets\n",
    "\n",
    "### Girvan-Newman and Multiple Near-Maximums\n",
    "\n",
    "Looking first at the girvan newman method, we measure the modularity of every set and use that to determine an optimal \"cut-point\". The ground-truth of this network only gives us information about 2 communities, whereas this method provides us with 5, however this also corresponds with the theory that maximum modularity is a function with a large plateu around the maximum, with many possible splits being very close in modularity. We exame the modularity of all the G-N splits to see this in effect. "
   ]
  },
  {
   "cell_type": "code",
   "execution_count": 159,
   "metadata": {
    "autoscroll": "json-false",
    "collapsed": false,
    "ein.tags": [
     "worksheet-0"
    ],
    "slideshow": {
     "slide_type": "-"
    }
   },
   "outputs": [],
   "source": [
    "karate = nx.karate_club_graph()"
   ]
  },
  {
   "cell_type": "code",
   "execution_count": 175,
   "metadata": {
    "autoscroll": "json-false",
    "collapsed": false,
    "ein.tags": [
     "worksheet-0"
    ],
    "slideshow": {
     "slide_type": "-"
    }
   },
   "outputs": [
    {
     "data": {
      "text/plain": [
       "({0, 1, 3, 7, 11, 12, 13, 17, 19, 21},\n",
       " {2, 24, 25, 27, 28, 31},\n",
       " {4, 5, 6, 10, 16},\n",
       " {8, 14, 15, 18, 20, 22, 23, 26, 29, 30, 32, 33},\n",
       " {9})"
      ]
     },
     "execution_count": 175,
     "metadata": {},
     "output_type": "execute_result"
    }
   ],
   "source": [
    "class Girvan():\n",
    "    def __init__(self, g, mx = 10):\n",
    "        newman_coms = list(islice(nx.girvan_newman(g), 0, mx))\n",
    "        modularity = [nx.modularity(g, c) for c in newman_coms]\n",
    "        i = np.argmax(modularity)\n",
    "        self.best = newman_coms[i]\n",
    "        self.rounds = newman_coms\n",
    "        self.modularities = modularity\n",
    "\n",
    "karate_girvan = Girvan(karate)\n",
    "karate_girvan.best"
   ]
  },
  {
   "cell_type": "code",
   "execution_count": 176,
   "metadata": {
    "autoscroll": "json-false",
    "collapsed": false,
    "ein.tags": [
     "worksheet-0"
    ],
    "slideshow": {
     "slide_type": "-"
    }
   },
   "outputs": [
    {
     "data": {
      "text/plain": [
       "[0.35996055226824225,\n",
       " 0.348783694937539,\n",
       " 0.3632478632478615,\n",
       " 0.4012984878369487,\n",
       " 0.39250493096646893,\n",
       " 0.37623274161735665,\n",
       " 0.358316896778435,\n",
       " 0.34171597633136075,\n",
       " 0.33284023668639046,\n",
       " 0.3159105851413543]"
      ]
     },
     "execution_count": 176,
     "metadata": {},
     "output_type": "execute_result"
    }
   ],
   "source": [
    "karate_girvan.modularities"
   ]
  },
  {
   "cell_type": "markdown",
   "metadata": {
    "ein.tags": [
     "worksheet-0"
    ],
    "slideshow": {
     "slide_type": "-"
    }
   },
   "source": [
    "### Comparing Girvan-Newman to Spectral Method\n",
    "\n",
    "One interesting comparrison is to look at the first split of Girvan-Newman, which in this instance creates two communities, and compare it to the Spectral Method using the largest positive eigenvector, the sign of which should give a maximum modularity"
   ]
  },
  {
   "cell_type": "code",
   "execution_count": 227,
   "metadata": {
    "autoscroll": "json-false",
    "collapsed": false,
    "ein.tags": [
     "worksheet-0"
    ],
    "slideshow": {
     "slide_type": "-"
    }
   },
   "outputs": [
    {
     "data": {
      "text/plain": [
       "({8, 9, 14, 15, 18, 20, 22, 23, 24, 25, 26, 27, 28, 29, 30, 31, 32, 33},\n",
       " {0, 1, 2, 3, 4, 5, 6, 7, 10, 11, 12, 13, 16, 17, 19, 21},\n",
       " set())"
      ]
     },
     "execution_count": 227,
     "metadata": {},
     "output_type": "execute_result"
    }
   ],
   "source": [
    "def get_eigen_split(g, directed = False):\n",
    "    m = nx.modularity_matrix(g) if not directed else nx.directed_modularity_matrix(g)\n",
    "    vals, vecs = np.linalg.eig(m)    \n",
    "    v = vecs[:, np.argmax(vals)]\n",
    "    nodes = list(g.nodes())\n",
    "    lists = [[i[0] for i in n] \n",
    "           for n in [np.argwhere(v > 0), np.argwhere(v < 0), np.argwhere(v == 0.0)]]\n",
    "    a,b,c = [set([nodes[i] for i in n]) for n in lists]\n",
    "    return a,b,c\n",
    "\n",
    "karate_eigen_split = get_eigen_split(karate)\n",
    "karate_eigen_split"
   ]
  },
  {
   "cell_type": "code",
   "execution_count": 229,
   "metadata": {
    "autoscroll": "json-false",
    "collapsed": false,
    "ein.tags": [
     "worksheet-0"
    ],
    "slideshow": {
     "slide_type": "-"
    }
   },
   "outputs": [
    {
     "data": {
      "text/plain": [
       "({0, 1, 3, 4, 5, 6, 7, 10, 11, 12, 13, 16, 17, 19, 21},\n",
       " {2, 8, 9, 14, 15, 18, 20, 22, 23, 24, 25, 26, 27, 28, 29, 30, 31, 32, 33})"
      ]
     },
     "execution_count": 229,
     "metadata": {},
     "output_type": "execute_result"
    }
   ],
   "source": [
    "karate_girvan.rounds[0]"
   ]
  },
  {
   "cell_type": "code",
   "execution_count": 230,
   "metadata": {
    "autoscroll": "json-false",
    "collapsed": false,
    "ein.tags": [
     "worksheet-0"
    ],
    "slideshow": {
     "slide_type": "-"
    }
   },
   "outputs": [
    {
     "data": {
      "text/plain": [
       "(0.35996055226824225, 0.371466140696909)"
      ]
     },
     "execution_count": 230,
     "metadata": {},
     "output_type": "execute_result"
    }
   ],
   "source": [
    "# We see here that the eigen value method returns, in one iteration, a higher modularity, despite only changing the group of one single individual. \n",
    "\n",
    "nx.modularity(karate, karate_girvan.rounds[0]), nx.modularity(karate, karate_eigen_split)"
   ]
  },
  {
   "cell_type": "markdown",
   "metadata": {
    "ein.tags": [
     "worksheet-0"
    ],
    "slideshow": {
     "slide_type": "-"
    }
   },
   "source": [
    "### School Children\n",
    "\n",
    "For this second dataset, I wanted to examine another small dataset that I could visually inspect, and wanted to use one that I already had access to and needed to work with. I know it's not technically a famous data set, but it was a useful analysis for me and I wanted to share! See comments for comparrisons to the previous data set. "
   ]
  },
  {
   "cell_type": "code",
   "execution_count": 145,
   "metadata": {
    "autoscroll": "json-false",
    "collapsed": false,
    "ein.tags": [
     "worksheet-0"
    ],
    "slideshow": {
     "slide_type": "-"
    }
   },
   "outputs": [],
   "source": [
    "def network_group(g, directed = True, folder = 'educatalyst/Data/Raw/1612_jesuites'):\n",
    "    path = os.path.join(folder, g+'_1612_q6.csv')\n",
    "    df = pd.read_csv(path)\n",
    "    nodes = df['User Id'].unique()\n",
    "    friends = [[int(n) for n in i if not np.isnan(n)] for i in df.iloc[:, 4:9].as_matrix()]\n",
    "    edges = [[(n,f) for f in fs] for n,fs in zip(nodes, friends)]\n",
    "    edges = [e for i in edges for e in i]\n",
    "    G = nx.DiGraph() if directed else nx.Graph()\n",
    "    G.add_nodes_from(nodes)\n",
    "    G.add_edges_from(edges)\n",
    "    return G"
   ]
  },
  {
   "cell_type": "code",
   "execution_count": 234,
   "metadata": {
    "autoscroll": "json-false",
    "collapsed": false,
    "ein.tags": [
     "worksheet-0"
    ],
    "slideshow": {
     "slide_type": "-"
    }
   },
   "outputs": [
    {
     "data": {
      "text/plain": [
       "[0.548799999999999,\n",
       " 0.5459999999999994,\n",
       " 0.5431999999999992,\n",
       " 0.555975,\n",
       " 0.5412500000000001,\n",
       " 0.5449999999999999,\n",
       " 0.5376499999999999,\n",
       " 0.5336999999999997,\n",
       " 0.5275749999999998,\n",
       " 0.5201999999999999]"
      ]
     },
     "execution_count": 234,
     "metadata": {},
     "output_type": "execute_result"
    }
   ],
   "source": [
    "# Again we see a very FLAT plateau around the maximum modularity, with all of the\n",
    "# first 10 splits giving fairly similar results!\n",
    "ij = network_group('ij')\n",
    "ij_girvan = Girvan(ij)\n",
    "ij_girvan.modularities"
   ]
  },
  {
   "cell_type": "code",
   "execution_count": 219,
   "metadata": {
    "autoscroll": "json-false",
    "collapsed": false,
    "ein.tags": [
     "worksheet-0"
    ],
    "slideshow": {
     "slide_type": "-"
    }
   },
   "outputs": [
    {
     "data": {
      "text/plain": [
       "({291,\n",
       "  293,\n",
       "  295,\n",
       "  296,\n",
       "  297,\n",
       "  298,\n",
       "  299,\n",
       "  300,\n",
       "  301,\n",
       "  302,\n",
       "  304,\n",
       "  306,\n",
       "  307,\n",
       "  308,\n",
       "  309,\n",
       "  310,\n",
       "  311,\n",
       "  312,\n",
       "  313,\n",
       "  316,\n",
       "  317},\n",
       " {292, 294, 303, 305, 314, 315},\n",
       " {318,\n",
       "  319,\n",
       "  320,\n",
       "  321,\n",
       "  322,\n",
       "  323,\n",
       "  324,\n",
       "  325,\n",
       "  326,\n",
       "  327,\n",
       "  328,\n",
       "  329,\n",
       "  330,\n",
       "  331,\n",
       "  332,\n",
       "  333,\n",
       "  334,\n",
       "  335,\n",
       "  336,\n",
       "  337,\n",
       "  338,\n",
       "  339,\n",
       "  340,\n",
       "  341,\n",
       "  342})"
      ]
     },
     "execution_count": 219,
     "metadata": {},
     "output_type": "execute_result"
    }
   ],
   "source": [
    "ij_girvan.rounds[0]"
   ]
  },
  {
   "cell_type": "code",
   "execution_count": 232,
   "metadata": {
    "autoscroll": "json-false",
    "collapsed": false,
    "ein.tags": [
     "worksheet-0"
    ],
    "slideshow": {
     "slide_type": "-"
    }
   },
   "outputs": [
    {
     "data": {
      "text/plain": [
       "({291,\n",
       "  293,\n",
       "  294,\n",
       "  295,\n",
       "  296,\n",
       "  297,\n",
       "  298,\n",
       "  299,\n",
       "  300,\n",
       "  301,\n",
       "  302,\n",
       "  303,\n",
       "  304,\n",
       "  305,\n",
       "  307,\n",
       "  309,\n",
       "  310,\n",
       "  311,\n",
       "  312,\n",
       "  313,\n",
       "  314,\n",
       "  315,\n",
       "  317},\n",
       " {318,\n",
       "  320,\n",
       "  321,\n",
       "  323,\n",
       "  324,\n",
       "  326,\n",
       "  327,\n",
       "  328,\n",
       "  329,\n",
       "  330,\n",
       "  333,\n",
       "  335,\n",
       "  336,\n",
       "  337,\n",
       "  339,\n",
       "  340,\n",
       "  341,\n",
       "  342},\n",
       " {292, 306, 308, 316, 319, 322, 325, 331, 332, 334, 338})"
      ]
     },
     "execution_count": 232,
     "metadata": {},
     "output_type": "execute_result"
    }
   ],
   "source": [
    "ij_eigen_split = get_eigen_split(ij, True)\n",
    "ij_eigen_split"
   ]
  },
  {
   "cell_type": "code",
   "execution_count": 233,
   "metadata": {
    "autoscroll": "json-false",
    "collapsed": false,
    "ein.tags": [
     "worksheet-0"
    ],
    "slideshow": {
     "slide_type": "-"
    }
   },
   "outputs": [
    {
     "data": {
      "text/plain": [
       "(0.548799999999999, 0.3753999999999993)"
      ]
     },
     "execution_count": 233,
     "metadata": {},
     "output_type": "execute_result"
    }
   ],
   "source": [
    "# Interesting to see that when there are nodes that are not easy to classify into any group, the eigenvector is equal to 0, and the method now fails to maximize modularity compared to the first round of Girvan Newman, in this instance!\n",
    "nx.modularity(ij, ij_girvan.rounds[0]), nx.modularity(ij, ij_eigen_split)"
   ]
  }
 ],
 "metadata": {
  "kernelspec": {
   "display_name": "Python 2",
   "language": "python",
   "name": "python2"
  },
  "language_info": {
   "codemirror_mode": {
    "name": "ipython",
    "version": 2
   },
   "file_extension": ".py",
   "mimetype": "text/x-python",
   "name": "python",
   "nbconvert_exporter": "python",
   "pygments_lexer": "ipython2",
   "version": "2.7.12"
  },
  "name": "PS2.ipynb"
 },
 "nbformat": 4,
 "nbformat_minor": 2
}
