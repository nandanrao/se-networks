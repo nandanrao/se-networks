{
 "cells": [
  {
   "cell_type": "code",
   "execution_count": 3,
   "metadata": {
    "collapsed": false
   },
   "outputs": [
    {
     "name": "stdout",
     "output_type": "stream",
     "text": [
      "Fetching package metadata .........\n",
      "Solving package specifications: ..........\n",
      "\n",
      "\n",
      "PackageNotFoundError: Package not found: '' no packages found to remove from environment: /opt/conda\n",
      "\n",
      "\n",
      "Collecting networkx from git+git://github.com/networkx/networkx.git#egg=networkx\n",
      "  Cloning git://github.com/networkx/networkx.git to /tmp/pip-build-p62we251/networkx\n",
      "Collecting decorator>=3.4.0 (from networkx)\n",
      "  Downloading decorator-4.0.11-py2.py3-none-any.whl\n",
      "Installing collected packages: decorator, networkx\n",
      "  Found existing installation: decorator 4.0.10\n",
      "    Uninstalling decorator-4.0.10:\n",
      "      Successfully uninstalled decorator-4.0.10\n",
      "  Running setup.py install for networkx ... \u001b[?25l-\b \b\\\b \b|\b \b/\b \b-\b \b\\\b \b|\b \b/\b \b-\b \b\\\b \b|\b \b/\b \bdone\n",
      "\u001b[?25hSuccessfully installed decorator-4.0.11 networkx-2.0.dev20170611133043\n"
     ]
    }
   ],
   "source": [
    "!conda uninstall --yes networkx\n",
    "!pip install --upgrade git+git://github.com/networkx/networkx.git#egg=networkx"
   ]
  },
  {
   "cell_type": "code",
   "execution_count": 8,
   "metadata": {
    "collapsed": false
   },
   "outputs": [],
   "source": [
    "import networkx as nx\n",
    "import graph_tool as gt"
   ]
  },
  {
   "cell_type": "code",
   "execution_count": null,
   "metadata": {
    "collapsed": true
   },
   "outputs": [],
   "source": []
  }
 ],
 "metadata": {
  "kernelspec": {
   "display_name": "Python 3",
   "language": "python",
   "name": "python3"
  },
  "language_info": {
   "codemirror_mode": {
    "name": "ipython",
    "version": 3
   },
   "file_extension": ".py",
   "mimetype": "text/x-python",
   "name": "python",
   "nbconvert_exporter": "python",
   "pygments_lexer": "ipython3",
   "version": "3.5.2"
  }
 },
 "nbformat": 4,
 "nbformat_minor": 2
}
