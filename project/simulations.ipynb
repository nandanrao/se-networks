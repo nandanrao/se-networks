{
 "cells": [
  {
   "cell_type": "code",
   "execution_count": null,
   "metadata": {
    "autoscroll": false,
    "collapsed": false,
    "ein.tags": "worksheet-0",
    "slideshow": {
     "slide_type": "-"
    }
   },
   "outputs": [],
   "source": [
    "!conda uninstall --yes networkx\n",
    "!pip install --upgrade git+git://github.com/networkx/networkx.git#egg=networkx"
   ]
  },
  {
   "cell_type": "code",
   "execution_count": 20,
   "metadata": {
    "autoscroll": false,
    "collapsed": false,
    "ein.tags": "worksheet-0",
    "slideshow": {
     "slide_type": "-"
    }
   },
   "outputs": [
    {
     "data": {
      "text/plain": [
       "<module 'lib.generation' from 'lib/generation.pyc'>"
      ]
     },
     "execution_count": 20,
     "metadata": {},
     "output_type": "execute_result"
    }
   ],
   "source": [
    "import networkx as nx\n",
    "from lib.equilibrium import *\n",
    "from lib.generation import *\n",
    "import lib.generation\n",
    "reload(lib.generation)"
   ]
  },
  {
   "cell_type": "code",
   "execution_count": 2,
   "metadata": {
    "autoscroll": false,
    "collapsed": false,
    "ein.tags": "worksheet-0",
    "slideshow": {
     "slide_type": "-"
    }
   },
   "outputs": [],
   "source": [
    "n = 20\n",
    "edges = list(nx.erdos_renyi_graph(n, .6, directed = True).edges())\n",
    "agents = random_placements(n, 4)\n",
    "graph = path_to_mat(edges, n)\n",
    "state = initial_state(agents, graph)\n",
    "\n",
    "def cost_fn(f,c):\n",
    "    return c * 1/f if f > 0 else float('inf')"
   ]
  },
  {
   "cell_type": "code",
   "execution_count": 3,
   "metadata": {
    "autoscroll": false,
    "collapsed": false,
    "ein.tags": "worksheet-0",
    "slideshow": {
     "slide_type": "-"
    }
   },
   "outputs": [
    {
     "data": {
      "text/plain": [
       "4.0"
      ]
     },
     "execution_count": 3,
     "metadata": {},
     "output_type": "execute_result"
    },
    {
     "name": "stderr",
     "output_type": "stream",
     "text": [
      "lib/generation.py:39: RuntimeWarning: invalid value encountered in multiply\n",
      "  d =  apply_on_tensor(state, lambda s: s*dist)\n"
     ]
    }
   ],
   "source": [
    "g = find_optimum_subgraph(state, graph, cost_fn, 200)\n",
    "g[0]"
   ]
  },
  {
   "cell_type": "code",
   "execution_count": 28,
   "metadata": {
    "autoscroll": false,
    "collapsed": false,
    "ein.tags": "worksheet-0",
    "slideshow": {
     "slide_type": "-"
    }
   },
   "outputs": [
    {
     "data": {
      "text/plain": [
       "6.0"
      ]
     },
     "execution_count": 28,
     "metadata": {},
     "output_type": "execute_result"
    }
   ],
   "source": [
    "new_state = find_equilibrium(state, graph, cost_fn)\n",
    "score_graph(new_state, graph, cost_fn)"
   ]
  },
  {
   "cell_type": "code",
   "execution_count": null,
   "metadata": {
    "autoscroll": false,
    "collapsed": false,
    "ein.tags": "worksheet-0",
    "slideshow": {
     "slide_type": "-"
    }
   },
   "outputs": [],
   "source": [
    "n = 8\n",
    "edges = list(nx.erdos_renyi_graph(n, .6, directed = True).edges())\n",
    "edges"
   ]
  },
  {
   "cell_type": "code",
   "execution_count": null,
   "metadata": {
    "autoscroll": false,
    "collapsed": false,
    "ein.tags": "worksheet-0",
    "slideshow": {
     "slide_type": "-"
    }
   },
   "outputs": [],
   "source": [
    "get_path(graph)"
   ]
  },
  {
   "cell_type": "code",
   "execution_count": null,
   "metadata": {
    "autoscroll": false,
    "collapsed": false,
    "ein.tags": "worksheet-0",
    "slideshow": {
     "slide_type": "-"
    }
   },
   "outputs": [],
   "source": [
    "[path_to_mat(c, 9) for c in combinations(edges[:9], [])]"
   ]
  },
  {
   "cell_type": "code",
   "execution_count": null,
   "metadata": {
    "autoscroll": false,
    "collapsed": false,
    "ein.tags": "worksheet-0",
    "slideshow": {
     "slide_type": "-"
    }
   },
   "outputs": [
    {
     "name": "stdout",
     "output_type": "stream",
     "text": [
      "[[ 0.  0.  0.  1.  1.  0.  0.]\n",
      " [ 0.  0.  0.  1.  1.  1.  1.]\n",
      " [ 0.  0.  0.  1.  0.  0.  0.]\n",
      " [ 1.  1.  1.  0.  1.  1.  0.]\n",
      " [ 1.  1.  0.  1.  0.  1.  1.]\n",
      " [ 0.  1.  0.  1.  1.  0.  1.]\n",
      " [ 0.  1.  0.  0.  1.  1.  0.]]\n"
     ]
    }
   ],
   "source": [
    "n = 7\n",
    "edges = nx.barabasi_albert_graph(n, 3).edges()\n",
    "edges = edges + map(lambda t: (t[1],t[0]), edges) # two way\n",
    "full_graph = path_to_mat(edges, n)\n",
    "print full_graph\n",
    "graphs = [path_to_mat(c, n) for c in combinations(edges)]\n",
    "agents = random_placements(n, 2)\n",
    "print agents\n",
    "state = initial_state(agents, full_graph)\n",
    "opt = combinatorial_optimum(state, graphs, cost_fn)"
   ]
  },
  {
   "cell_type": "code",
   "execution_count": null,
   "metadata": {
    "autoscroll": false,
    "collapsed": false,
    "ein.tags": "worksheet-0",
    "slideshow": {
     "slide_type": "-"
    }
   },
   "outputs": [],
   "source": [
    "import eventlet"
   ]
  },
  {
   "cell_type": "code",
   "execution_count": null,
   "metadata": {
    "autoscroll": false,
    "collapsed": false,
    "ein.tags": "worksheet-0",
    "slideshow": {
     "slide_type": "-"
    }
   },
   "outputs": [],
   "source": [
    "opt"
   ]
  },
  {
   "cell_type": "code",
   "execution_count": null,
   "metadata": {
    "autoscroll": false,
    "collapsed": false,
    "ein.tags": "worksheet-0",
    "slideshow": {
     "slide_type": "-"
    }
   },
   "outputs": [],
   "source": []
  }
 ],
 "metadata": {
  "kernelspec": {
   "display_name": "Python 2",
   "name": "python2"
  },
  "language_info": {
   "codemirror_mode": {
    "name": "ipython",
    "version": 3
   },
   "file_extension": ".py",
   "mimetype": "text/x-python",
   "name": "python",
   "nbconvert_exporter": "python",
   "pygments_lexer": "ipython3",
   "version": "3.5.2"
  },
  "name": "simulations.ipynb"
 },
 "nbformat": 4,
 "nbformat_minor": 2
}
